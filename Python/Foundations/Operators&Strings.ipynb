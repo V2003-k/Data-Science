{
  "cells": [
    {
      "cell_type": "markdown",
      "source": [
        "# Operators and Strings"
      ],
      "metadata": {
        "id": "Bl0YI_l9Zm88"
      },
      "id": "Bl0YI_l9Zm88"
    },
    {
      "cell_type": "markdown",
      "source": [
        "## Arithmetic Operators"
      ],
      "metadata": {
        "id": "nrB4bv2sZqrt"
      },
      "id": "nrB4bv2sZqrt"
    },
    {
      "cell_type": "code",
      "execution_count": null,
      "id": "c3dc3001",
      "metadata": {
        "id": "c3dc3001",
        "outputId": "8c499a89-cc5c-4836-9b1b-939a2948b2e6"
      },
      "outputs": [
        {
          "name": "stdout",
          "output_type": "stream",
          "text": [
            "13\n",
            "7\n",
            "30\n",
            "3.3333333333333335\n",
            "3\n",
            "1\n",
            "1000\n"
          ]
        }
      ],
      "source": [
        "x = 10\n",
        "y = 3\n",
        "\n",
        "# Perform the arithmetic operations\n",
        "print(x + y) # Addition\n",
        "print(x - y) # Subtraction\n",
        "print(x * y) # Multiplication\n",
        "print(x / y) # Division\n",
        "print(x // y) # Floor Division\n",
        "print(x % y) # Modulus (remainder)\n",
        "print(x ** y) # Exponentation\n"
      ]
    },
    {
      "cell_type": "code",
      "execution_count": 3,
      "id": "d122b9de",
      "metadata": {
        "colab": {
          "base_uri": "https://localhost:8080/"
        },
        "id": "d122b9de",
        "outputId": "ba623131-25a9-428b-f386-301ef35705ee"
      },
      "outputs": [
        {
          "output_type": "stream",
          "name": "stdout",
          "text": [
            "44.75\n"
          ]
        }
      ],
      "source": [
        "a = 10 + 34.75\n",
        "print(a)"
      ]
    },
    {
      "cell_type": "markdown",
      "source": [
        "## Comparison Operators"
      ],
      "metadata": {
        "id": "4esAFznSZvvc"
      },
      "id": "4esAFznSZvvc"
    },
    {
      "cell_type": "code",
      "source": [
        "x = 5\n",
        "y = 10\n",
        "\n",
        "# Perform Comparison Operator\n",
        "print(x == y) # Equal to\n",
        "print(x != y) # Not Equal to\n",
        "print(x > y) # Greater than\n",
        "print(x < y) # Less than\n",
        "print(x >= y) # Greater than or equal to\n",
        "print(x <= y) # Less than or equal to"
      ],
      "metadata": {
        "colab": {
          "base_uri": "https://localhost:8080/"
        },
        "id": "nrTGcYEUZyp0",
        "outputId": "e016e61f-b4d8-4b07-b0dc-a6607c133d9c"
      },
      "id": "nrTGcYEUZyp0",
      "execution_count": 2,
      "outputs": [
        {
          "output_type": "stream",
          "name": "stdout",
          "text": [
            "False\n",
            "True\n",
            "False\n",
            "True\n",
            "False\n",
            "True\n"
          ]
        }
      ]
    },
    {
      "cell_type": "markdown",
      "source": [
        "## Logical Operators"
      ],
      "metadata": {
        "id": "wDi-_Xz8TG_y"
      },
      "id": "wDi-_Xz8TG_y"
    },
    {
      "cell_type": "code",
      "source": [
        "x = 5\n",
        "y = 10\n",
        "z = 15\n",
        "\n",
        "# Perform Logical Operators\n",
        "print(x < y and y < z)\n",
        "print(x < y or x > z)\n",
        "print(not(x < y))"
      ],
      "metadata": {
        "colab": {
          "base_uri": "https://localhost:8080/"
        },
        "id": "Ja5hqjPmVJSz",
        "outputId": "919b27f2-c248-4994-f003-cc960ed4093b"
      },
      "id": "Ja5hqjPmVJSz",
      "execution_count": 3,
      "outputs": [
        {
          "output_type": "stream",
          "name": "stdout",
          "text": [
            "True\n",
            "True\n",
            "False\n"
          ]
        }
      ]
    },
    {
      "cell_type": "markdown",
      "source": [
        "## Bitwise Operator"
      ],
      "metadata": {
        "id": "flmKnQ5gWxf4"
      },
      "id": "flmKnQ5gWxf4"
    },
    {
      "cell_type": "code",
      "source": [
        "x = 10\n",
        "y = 6\n",
        "\n",
        "# Perform Bitwise Operations\n",
        "print(x & y) # AND Operation\n",
        "print(x | y) # OR Operation\n",
        "print(x ^ y) # XOR Operation\n",
        "print(~x) # NOT Operation\n",
        "print(x << 2) # Left Shift Operation\n",
        "print(x >> 2) # Right Shift Operation"
      ],
      "metadata": {
        "colab": {
          "base_uri": "https://localhost:8080/"
        },
        "id": "LqP0LymfW7zN",
        "outputId": "b219bcef-0c00-4ba3-f774-6c860c7e4922"
      },
      "id": "LqP0LymfW7zN",
      "execution_count": 4,
      "outputs": [
        {
          "output_type": "stream",
          "name": "stdout",
          "text": [
            "2\n",
            "14\n",
            "12\n",
            "-11\n",
            "40\n",
            "2\n"
          ]
        }
      ]
    },
    {
      "cell_type": "markdown",
      "source": [
        "## Assignment Operators"
      ],
      "metadata": {
        "id": "HkLM-T3Ig1i-"
      },
      "id": "HkLM-T3Ig1i-"
    },
    {
      "cell_type": "code",
      "source": [
        "x = 20\n",
        "y = 3\n",
        "\n",
        "# Perform Assignment Operators\n",
        "x += y # x = x + y\n",
        "print(x)\n",
        "\n",
        "x -= y # x = x - y\n",
        "print(x)\n",
        "\n",
        "x *= y # x = x * y\n",
        "print(x)\n",
        "\n",
        "x /= y # x = x / y\n",
        "print(x)\n",
        "\n",
        "x %= y # x = x % y\n",
        "print(x)"
      ],
      "metadata": {
        "colab": {
          "base_uri": "https://localhost:8080/"
        },
        "id": "PGgbOUKDhvqW",
        "outputId": "8de55e11-7e68-4786-9130-458d162cbad8"
      },
      "id": "PGgbOUKDhvqW",
      "execution_count": 6,
      "outputs": [
        {
          "output_type": "stream",
          "name": "stdout",
          "text": [
            "23\n",
            "20\n",
            "60\n",
            "20.0\n",
            "2.0\n"
          ]
        }
      ]
    },
    {
      "cell_type": "markdown",
      "source": [
        "## Membership Operators"
      ],
      "metadata": {
        "id": "le92wdPLiDNa"
      },
      "id": "le92wdPLiDNa"
    },
    {
      "cell_type": "code",
      "source": [
        "print('a' in 'Vishwajeet')"
      ],
      "metadata": {
        "colab": {
          "base_uri": "https://localhost:8080/"
        },
        "id": "jNCfdTLfilVJ",
        "outputId": "d68800d7-99dc-46d5-ade7-ce42f1ae030b"
      },
      "id": "jNCfdTLfilVJ",
      "execution_count": 7,
      "outputs": [
        {
          "output_type": "stream",
          "name": "stdout",
          "text": [
            "True\n"
          ]
        }
      ]
    },
    {
      "cell_type": "code",
      "source": [
        "print('a' not in 'Vishwajeet')"
      ],
      "metadata": {
        "colab": {
          "base_uri": "https://localhost:8080/"
        },
        "id": "oG6Hu9YMjCXL",
        "outputId": "20485fe1-d8e6-4ed6-a1f5-329c0d4c0a18"
      },
      "id": "oG6Hu9YMjCXL",
      "execution_count": 8,
      "outputs": [
        {
          "output_type": "stream",
          "name": "stdout",
          "text": [
            "False\n"
          ]
        }
      ]
    },
    {
      "cell_type": "markdown",
      "source": [
        "## Identity Operators"
      ],
      "metadata": {
        "id": "lSNCSoRZjFXo"
      },
      "id": "lSNCSoRZjFXo"
    },
    {
      "cell_type": "code",
      "source": [
        "x = 10\n",
        "y = 10\n",
        "\n",
        "# Perform Identity Operators\n",
        "print(x is y)\n",
        "print(x is not y)"
      ],
      "metadata": {
        "colab": {
          "base_uri": "https://localhost:8080/"
        },
        "id": "y8lH4e-HjXGo",
        "outputId": "278ae6f1-78e7-4c38-b8af-236a52db5bc0"
      },
      "id": "y8lH4e-HjXGo",
      "execution_count": 9,
      "outputs": [
        {
          "output_type": "stream",
          "name": "stdout",
          "text": [
            "True\n",
            "False\n"
          ]
        }
      ]
    },
    {
      "cell_type": "code",
      "source": [
        "print(id(x))\n",
        "print(id(y))"
      ],
      "metadata": {
        "colab": {
          "base_uri": "https://localhost:8080/"
        },
        "id": "EhGZB0TokXvq",
        "outputId": "c6af54c0-a4d6-4d8a-c7bd-9b2f1fe5519d"
      },
      "id": "EhGZB0TokXvq",
      "execution_count": 10,
      "outputs": [
        {
          "output_type": "stream",
          "name": "stdout",
          "text": [
            "10758024\n",
            "10758024\n"
          ]
        }
      ]
    },
    {
      "cell_type": "markdown",
      "source": [
        "# Strings"
      ],
      "metadata": {
        "id": "5YpyIw7ekfp3"
      },
      "id": "5YpyIw7ekfp3"
    },
    {
      "cell_type": "code",
      "source": [
        "name = \"Vishwajeet\"\n",
        "type(name)"
      ],
      "metadata": {
        "colab": {
          "base_uri": "https://localhost:8080/"
        },
        "id": "c-_1XLnbkx6m",
        "outputId": "1e2c35d8-48fb-4901-8790-ce4c088e2328"
      },
      "id": "c-_1XLnbkx6m",
      "execution_count": 1,
      "outputs": [
        {
          "output_type": "execute_result",
          "data": {
            "text/plain": [
              "str"
            ]
          },
          "metadata": {},
          "execution_count": 1
        }
      ]
    },
    {
      "cell_type": "code",
      "source": [
        "string = \"Hello, World!\"\n",
        "second_char = string[1]\n",
        "last_char = string[-1]\n",
        "\n",
        "print(second_char)\n",
        "print(last_char)"
      ],
      "metadata": {
        "colab": {
          "base_uri": "https://localhost:8080/"
        },
        "id": "VCPDD9PzqitI",
        "outputId": "1048d410-4557-4545-96ae-68711c2ad1d4"
      },
      "id": "VCPDD9PzqitI",
      "execution_count": 2,
      "outputs": [
        {
          "output_type": "stream",
          "name": "stdout",
          "text": [
            "e\n",
            "!\n"
          ]
        }
      ]
    },
    {
      "cell_type": "code",
      "source": [
        "len(string)"
      ],
      "metadata": {
        "colab": {
          "base_uri": "https://localhost:8080/"
        },
        "id": "rHapHAcgqz3J",
        "outputId": "244e2ebd-18cd-4527-b735-9cd7f7d7f87f"
      },
      "id": "rHapHAcgqz3J",
      "execution_count": 3,
      "outputs": [
        {
          "output_type": "execute_result",
          "data": {
            "text/plain": [
              "13"
            ]
          },
          "metadata": {},
          "execution_count": 3
        }
      ]
    },
    {
      "cell_type": "markdown",
      "source": [
        "## Slicing Operation"
      ],
      "metadata": {
        "id": "5e-IC1RWrTAq"
      },
      "id": "5e-IC1RWrTAq"
    },
    {
      "cell_type": "markdown",
      "source": [
        "## string[start:end:stepsize]"
      ],
      "metadata": {
        "id": "rAHryAYprsgp"
      },
      "id": "rAHryAYprsgp"
    },
    {
      "cell_type": "code",
      "source": [
        "print(string[1:4])"
      ],
      "metadata": {
        "colab": {
          "base_uri": "https://localhost:8080/"
        },
        "id": "VlKG8s6sq8m4",
        "outputId": "0be14b4c-3eab-4761-c71c-22ae5c5c09ec"
      },
      "id": "VlKG8s6sq8m4",
      "execution_count": 6,
      "outputs": [
        {
          "output_type": "stream",
          "name": "stdout",
          "text": [
            "ell\n"
          ]
        }
      ]
    },
    {
      "cell_type": "code",
      "source": [
        "print(string[1:8:2])"
      ],
      "metadata": {
        "colab": {
          "base_uri": "https://localhost:8080/"
        },
        "id": "71qXGMwMrrmo",
        "outputId": "872c4138-d179-4ab5-e827-271e34eede98"
      },
      "id": "71qXGMwMrrmo",
      "execution_count": 7,
      "outputs": [
        {
          "output_type": "stream",
          "name": "stdout",
          "text": [
            "el,W\n"
          ]
        }
      ]
    },
    {
      "cell_type": "code",
      "source": [
        "print(string[:5])"
      ],
      "metadata": {
        "colab": {
          "base_uri": "https://localhost:8080/"
        },
        "id": "nJzsVSMArARr",
        "outputId": "67f8fc01-9ada-4a67-e142-0658ee92bb6e"
      },
      "id": "nJzsVSMArARr",
      "execution_count": 8,
      "outputs": [
        {
          "output_type": "stream",
          "name": "stdout",
          "text": [
            "Hello\n"
          ]
        }
      ]
    },
    {
      "cell_type": "code",
      "source": [
        "print(string[7:])"
      ],
      "metadata": {
        "colab": {
          "base_uri": "https://localhost:8080/"
        },
        "id": "EgWgINn5tQEP",
        "outputId": "71cb7f19-c368-44ea-d524-eb6b8e824a18"
      },
      "id": "EgWgINn5tQEP",
      "execution_count": 9,
      "outputs": [
        {
          "output_type": "stream",
          "name": "stdout",
          "text": [
            "World!\n"
          ]
        }
      ]
    },
    {
      "cell_type": "markdown",
      "source": [
        "Python Strings are immutable. Once a string is created, you cannot change it"
      ],
      "metadata": {
        "id": "godoeNRztgDu"
      },
      "id": "godoeNRztgDu"
    },
    {
      "cell_type": "code",
      "source": [
        "print(string[-4:])"
      ],
      "metadata": {
        "colab": {
          "base_uri": "https://localhost:8080/"
        },
        "id": "vOkIbhg_uhsW",
        "outputId": "3a634235-0dbc-4e8f-c3c5-f7adb903bac8"
      },
      "id": "vOkIbhg_uhsW",
      "execution_count": 10,
      "outputs": [
        {
          "output_type": "stream",
          "name": "stdout",
          "text": [
            "rld!\n"
          ]
        }
      ]
    },
    {
      "cell_type": "code",
      "source": [
        "print(string[:-5])"
      ],
      "metadata": {
        "colab": {
          "base_uri": "https://localhost:8080/"
        },
        "id": "5MZ-5R_GuvX-",
        "outputId": "1d97c55a-2213-42b0-a874-a5728bb380cb"
      },
      "id": "5MZ-5R_GuvX-",
      "execution_count": 11,
      "outputs": [
        {
          "output_type": "stream",
          "name": "stdout",
          "text": [
            "Hello, W\n"
          ]
        }
      ]
    },
    {
      "cell_type": "markdown",
      "source": [
        "Reversal of the entire string"
      ],
      "metadata": {
        "id": "Fn4dS5w_wa_c"
      },
      "id": "Fn4dS5w_wa_c"
    },
    {
      "cell_type": "code",
      "source": [
        "print(string[::-1])"
      ],
      "metadata": {
        "colab": {
          "base_uri": "https://localhost:8080/"
        },
        "id": "EH5Raa8vvFst",
        "outputId": "d61e579d-b6b6-4e73-d6c9-bdaee146013d"
      },
      "id": "EH5Raa8vvFst",
      "execution_count": 16,
      "outputs": [
        {
          "output_type": "stream",
          "name": "stdout",
          "text": [
            "!dlroW ,olleH\n"
          ]
        }
      ]
    },
    {
      "cell_type": "code",
      "source": [
        "print(string[::])"
      ],
      "metadata": {
        "colab": {
          "base_uri": "https://localhost:8080/"
        },
        "id": "gMiCTb5gwBbH",
        "outputId": "508fad31-7cba-48f5-b521-1d6b0ab707c1"
      },
      "id": "gMiCTb5gwBbH",
      "execution_count": 17,
      "outputs": [
        {
          "output_type": "stream",
          "name": "stdout",
          "text": [
            "Hello, World!\n"
          ]
        }
      ]
    },
    {
      "cell_type": "code",
      "source": [
        "print(string[12:-1:-1])"
      ],
      "metadata": {
        "colab": {
          "base_uri": "https://localhost:8080/"
        },
        "id": "PUz4bZbgwlSP",
        "outputId": "41ccc4a5-668e-4462-fc44-ad8bc2bd876b"
      },
      "id": "PUz4bZbgwlSP",
      "execution_count": 18,
      "outputs": [
        {
          "output_type": "stream",
          "name": "stdout",
          "text": [
            "\n"
          ]
        }
      ]
    },
    {
      "cell_type": "code",
      "source": [
        "print(string[::-2])"
      ],
      "metadata": {
        "colab": {
          "base_uri": "https://localhost:8080/"
        },
        "id": "JM3qmUu5w44T",
        "outputId": "ebd1772b-1583-407a-cf9e-8c4016741947"
      },
      "id": "JM3qmUu5w44T",
      "execution_count": 19,
      "outputs": [
        {
          "output_type": "stream",
          "name": "stdout",
          "text": [
            "!lo olH\n"
          ]
        }
      ]
    },
    {
      "cell_type": "markdown",
      "source": [
        "Inbuilt Functions of String"
      ],
      "metadata": {
        "id": "O7M6bJbdw86y"
      },
      "id": "O7M6bJbdw86y"
    },
    {
      "cell_type": "code",
      "source": [
        "uppercase_string = string.upper()\n",
        "print(uppercase_string)"
      ],
      "metadata": {
        "colab": {
          "base_uri": "https://localhost:8080/"
        },
        "id": "ksOWx251x9ke",
        "outputId": "14c2917f-b4b1-4ee0-c210-f1037b348dc7"
      },
      "id": "ksOWx251x9ke",
      "execution_count": 20,
      "outputs": [
        {
          "output_type": "stream",
          "name": "stdout",
          "text": [
            "HELLO, WORLD!\n"
          ]
        }
      ]
    },
    {
      "cell_type": "code",
      "source": [
        "lowercase_string = string.lower()\n",
        "print(lowercase_string)"
      ],
      "metadata": {
        "colab": {
          "base_uri": "https://localhost:8080/"
        },
        "id": "nWXneCoqyCNq",
        "outputId": "1d79b22b-7c04-4145-b860-055602876725"
      },
      "id": "nWXneCoqyCNq",
      "execution_count": 21,
      "outputs": [
        {
          "output_type": "stream",
          "name": "stdout",
          "text": [
            "hello, world!\n"
          ]
        }
      ]
    },
    {
      "cell_type": "code",
      "source": [
        "string = \"Today's session is quite fun\"\n",
        "titlecase_string = string.title()\n",
        "print(titlecase_string)"
      ],
      "metadata": {
        "colab": {
          "base_uri": "https://localhost:8080/"
        },
        "id": "7gxV4k_IyGBY",
        "outputId": "85c294b1-f974-440f-d767-334aaebc6e36"
      },
      "id": "7gxV4k_IyGBY",
      "execution_count": 22,
      "outputs": [
        {
          "output_type": "stream",
          "name": "stdout",
          "text": [
            "Today'S Session Is Quite Fun\n"
          ]
        }
      ]
    },
    {
      "cell_type": "code",
      "source": [
        "string = \"Today's session is quite fun\"\n",
        "titlecase_string = string.capitalize()\n",
        "print(titlecase_string)"
      ],
      "metadata": {
        "colab": {
          "base_uri": "https://localhost:8080/"
        },
        "id": "0XX11bC7yOWY",
        "outputId": "89398489-30ca-45e3-870c-28ed56f8d92a"
      },
      "id": "0XX11bC7yOWY",
      "execution_count": 23,
      "outputs": [
        {
          "output_type": "stream",
          "name": "stdout",
          "text": [
            "Today's session is quite fun\n"
          ]
        }
      ]
    },
    {
      "cell_type": "code",
      "source": [
        "str1 = \"Hello\"\n",
        "str2 = \"World\"\n",
        "# Concatination Operation\n",
        "result = str1 + \" \" + str2\n",
        "print(result)"
      ],
      "metadata": {
        "colab": {
          "base_uri": "https://localhost:8080/"
        },
        "id": "6MPhfHHSym5d",
        "outputId": "932d92bc-e55a-4f87-ba6a-c9edff6fb2d9"
      },
      "id": "6MPhfHHSym5d",
      "execution_count": 25,
      "outputs": [
        {
          "output_type": "stream",
          "name": "stdout",
          "text": [
            "Hello World\n"
          ]
        }
      ]
    },
    {
      "cell_type": "code",
      "source": [
        "result = str1 * 3\n",
        "print(result)"
      ],
      "metadata": {
        "colab": {
          "base_uri": "https://localhost:8080/"
        },
        "id": "t7nUiqRoyuSO",
        "outputId": "b94fdce1-dafd-4df6-91ce-83af5c0eb96e"
      },
      "id": "t7nUiqRoyuSO",
      "execution_count": 26,
      "outputs": [
        {
          "output_type": "stream",
          "name": "stdout",
          "text": [
            "HelloHelloHello\n"
          ]
        }
      ]
    },
    {
      "cell_type": "code",
      "source": [],
      "metadata": {
        "id": "RLszRHYmzASW"
      },
      "id": "RLszRHYmzASW",
      "execution_count": null,
      "outputs": []
    }
  ],
  "metadata": {
    "kernelspec": {
      "display_name": "base",
      "language": "python",
      "name": "python3"
    },
    "language_info": {
      "codemirror_mode": {
        "name": "ipython",
        "version": 3
      },
      "file_extension": ".py",
      "mimetype": "text/x-python",
      "name": "python",
      "nbconvert_exporter": "python",
      "pygments_lexer": "ipython3",
      "version": "3.12.7"
    },
    "colab": {
      "provenance": []
    }
  },
  "nbformat": 4,
  "nbformat_minor": 5
}