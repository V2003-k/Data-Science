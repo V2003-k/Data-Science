{
  "cells": [
    {
      "cell_type": "markdown",
      "id": "bff67d6d",
      "metadata": {
        "id": "bff67d6d"
      },
      "source": [
        "# Python Foundations"
      ]
    },
    {
      "cell_type": "markdown",
      "id": "1a610ac8",
      "metadata": {
        "id": "1a610ac8"
      },
      "source": [
        "## print() -> display the output to the screen"
      ]
    },
    {
      "cell_type": "code",
      "execution_count": null,
      "id": "977c6867",
      "metadata": {
        "colab": {
          "base_uri": "https://localhost:8080/"
        },
        "id": "977c6867",
        "outputId": "8a5703d5-9b69-450e-a0f5-ca71ab6211b1"
      },
      "outputs": [
        {
          "output_type": "stream",
          "name": "stdout",
          "text": [
            "Hello World!\n"
          ]
        }
      ],
      "source": [
        "print(\"Hello World!\")"
      ]
    },
    {
      "cell_type": "markdown",
      "id": "d3cbc7a7",
      "metadata": {
        "id": "d3cbc7a7"
      },
      "source": [
        "By default, the print function uses 'end' parameter with a new line"
      ]
    },
    {
      "cell_type": "code",
      "execution_count": null,
      "id": "09caba6f",
      "metadata": {
        "colab": {
          "base_uri": "https://localhost:8080/"
        },
        "id": "09caba6f",
        "outputId": "df91a534-78cd-4109-bd57-a924c646537e"
      },
      "outputs": [
        {
          "output_type": "stream",
          "name": "stdout",
          "text": [
            "Hello\n",
            "World\n"
          ]
        }
      ],
      "source": [
        "print(\"Hello\")\n",
        "print(\"World\")"
      ]
    },
    {
      "cell_type": "code",
      "execution_count": null,
      "id": "17413f46",
      "metadata": {
        "colab": {
          "base_uri": "https://localhost:8080/"
        },
        "id": "17413f46",
        "outputId": "5cacb8d0-99b4-4c0b-9b19-769d303175ae"
      },
      "outputs": [
        {
          "output_type": "stream",
          "name": "stdout",
          "text": [
            "Hello World\n"
          ]
        }
      ],
      "source": [
        "print(\"Hello\", end = \" \")\n",
        "print(\"World\")"
      ]
    },
    {
      "cell_type": "code",
      "execution_count": null,
      "id": "ba1cc3f0",
      "metadata": {
        "colab": {
          "base_uri": "https://localhost:8080/"
        },
        "id": "ba1cc3f0",
        "outputId": "339cb096-e8b9-45cb-9185-40dbe819b669"
      },
      "outputs": [
        {
          "output_type": "stream",
          "name": "stdout",
          "text": [
            "Python-Programming\n"
          ]
        }
      ],
      "source": [
        "print(\"Python\", end = \"-\")\n",
        "print(\"Programming\")"
      ]
    },
    {
      "cell_type": "markdown",
      "id": "0cea6b0b",
      "metadata": {
        "id": "0cea6b0b"
      },
      "source": [
        "Sep parameter"
      ]
    },
    {
      "cell_type": "code",
      "execution_count": null,
      "id": "f51f062b",
      "metadata": {
        "colab": {
          "base_uri": "https://localhost:8080/"
        },
        "id": "f51f062b",
        "outputId": "574b7ed8-1337-40fa-ba26-6c98f5ae0fb7"
      },
      "outputs": [
        {
          "output_type": "stream",
          "name": "stdout",
          "text": [
            "apple banana orange\n"
          ]
        }
      ],
      "source": [
        "print('apple', 'banana', 'orange')"
      ]
    },
    {
      "cell_type": "code",
      "execution_count": null,
      "id": "914d9480",
      "metadata": {
        "notebookRunGroups": {
          "groupValue": "2"
        },
        "colab": {
          "base_uri": "https://localhost:8080/"
        },
        "id": "914d9480",
        "outputId": "e1029924-384f-477b-b2eb-bfe1d30a9460"
      },
      "outputs": [
        {
          "output_type": "stream",
          "name": "stdout",
          "text": [
            "apple,banana,orange\n"
          ]
        }
      ],
      "source": [
        "print('apple', 'banana', 'orange', sep =',')"
      ]
    },
    {
      "cell_type": "markdown",
      "id": "21bfcb15",
      "metadata": {
        "id": "21bfcb15"
      },
      "source": [
        "## input() function"
      ]
    },
    {
      "cell_type": "code",
      "execution_count": null,
      "id": "cb6fb8d1",
      "metadata": {
        "colab": {
          "base_uri": "https://localhost:8080/"
        },
        "id": "cb6fb8d1",
        "outputId": "7f85cf9a-7e2b-428a-86d3-4acda7357851"
      },
      "outputs": [
        {
          "output_type": "stream",
          "name": "stdout",
          "text": [
            "Enter your name: Vishwajeet\n",
            "Hey Vishwajeet\n"
          ]
        }
      ],
      "source": [
        "user_input = input(\"Enter your name: \")\n",
        "print(\"Hey\", user_input)"
      ]
    },
    {
      "cell_type": "code",
      "source": [
        "user_input = \"Prathamesh\"\n",
        "print(user_input)"
      ],
      "metadata": {
        "colab": {
          "base_uri": "https://localhost:8080/"
        },
        "id": "d7seAnOHYeDr",
        "outputId": "a2ae11e2-de0b-4bdc-d03e-52ebcea95d9d"
      },
      "id": "d7seAnOHYeDr",
      "execution_count": null,
      "outputs": [
        {
          "output_type": "stream",
          "name": "stdout",
          "text": [
            "Prathamesh\n"
          ]
        }
      ]
    },
    {
      "cell_type": "code",
      "source": [
        "num = 10\n",
        "print(num)"
      ],
      "metadata": {
        "colab": {
          "base_uri": "https://localhost:8080/"
        },
        "id": "FHrsrzmgeb8J",
        "outputId": "99bef00a-0017-4f43-a780-69b45f64f48e"
      },
      "id": "FHrsrzmgeb8J",
      "execution_count": null,
      "outputs": [
        {
          "output_type": "stream",
          "name": "stdout",
          "text": [
            "10\n"
          ]
        }
      ]
    },
    {
      "cell_type": "code",
      "source": [
        "num = 15\n",
        "print(num)"
      ],
      "metadata": {
        "colab": {
          "base_uri": "https://localhost:8080/"
        },
        "id": "k9NMzVokee5n",
        "outputId": "1b975f43-7bc9-4ea9-dea6-77416f6c8986"
      },
      "id": "k9NMzVokee5n",
      "execution_count": null,
      "outputs": [
        {
          "output_type": "stream",
          "name": "stdout",
          "text": [
            "15\n"
          ]
        }
      ]
    },
    {
      "cell_type": "markdown",
      "source": [
        "## Comments"
      ],
      "metadata": {
        "id": "Yx4QYCgHegpL"
      },
      "id": "Yx4QYCgHegpL"
    },
    {
      "cell_type": "code",
      "source": [
        "# This is a single line comment\n",
        "print(\"Hellow, World\")"
      ],
      "metadata": {
        "colab": {
          "base_uri": "https://localhost:8080/"
        },
        "id": "KHXtHOdQejyO",
        "outputId": "d9d35d22-f63f-45b2-d699-b51d5a962203"
      },
      "id": "KHXtHOdQejyO",
      "execution_count": null,
      "outputs": [
        {
          "output_type": "stream",
          "name": "stdout",
          "text": [
            "Hellow, World\n"
          ]
        }
      ]
    },
    {
      "cell_type": "code",
      "source": [
        "'''\n",
        "This is a multi-line comment, it is enclosed within triple quotes.\n",
        "This is useful mainly for documenting larger sections of the code\n",
        "'''\n",
        "print(\"hello world\")"
      ],
      "metadata": {
        "colab": {
          "base_uri": "https://localhost:8080/"
        },
        "id": "A3_7FeZdep8u",
        "outputId": "9fc1541f-9dfa-44ee-d61a-aba702b156f4"
      },
      "id": "A3_7FeZdep8u",
      "execution_count": null,
      "outputs": [
        {
          "output_type": "stream",
          "name": "stdout",
          "text": [
            "hello world\n"
          ]
        }
      ]
    },
    {
      "cell_type": "markdown",
      "source": [
        "## Indentation"
      ],
      "metadata": {
        "id": "_McGL-fJe5tS"
      },
      "id": "_McGL-fJe5tS"
    },
    {
      "cell_type": "code",
      "source": [
        "x = 5\n",
        "if x > 3:\n",
        "  print(\"X is greater than 3\")"
      ],
      "metadata": {
        "colab": {
          "base_uri": "https://localhost:8080/"
        },
        "id": "H4vCbDgifFYw",
        "outputId": "3e2075e7-dab8-4507-f6cc-d8ad0d98170d"
      },
      "id": "H4vCbDgifFYw",
      "execution_count": null,
      "outputs": [
        {
          "output_type": "stream",
          "name": "stdout",
          "text": [
            "X is greater than 3\n"
          ]
        }
      ]
    },
    {
      "cell_type": "code",
      "source": [],
      "metadata": {
        "id": "JiNv7UJPfd0A"
      },
      "id": "JiNv7UJPfd0A",
      "execution_count": null,
      "outputs": []
    }
  ],
  "metadata": {
    "kernelspec": {
      "display_name": "base",
      "language": "python",
      "name": "python3"
    },
    "language_info": {
      "codemirror_mode": {
        "name": "ipython",
        "version": 3
      },
      "file_extension": ".py",
      "mimetype": "text/x-python",
      "name": "python",
      "nbconvert_exporter": "python",
      "pygments_lexer": "ipython3",
      "version": "3.12.7"
    },
    "colab": {
      "provenance": []
    }
  },
  "nbformat": 4,
  "nbformat_minor": 5
}